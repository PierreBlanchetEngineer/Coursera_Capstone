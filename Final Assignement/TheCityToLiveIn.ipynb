{
 "cells": [
  {
   "cell_type": "markdown",
   "metadata": {},
   "source": [
    "### Introduction / Business Plan"
   ]
  },
  {
   "cell_type": "markdown",
   "metadata": {},
   "source": [
    "Very soon I will have to make an important life decision. I need to choose which city I am going to live in. I speak French, English and German, which gives a lot of potential choices.\n",
    "\n",
    "I don't have a particular reason to choose any city / country. I just want to live in a big and dynamic city. To me this can be represented by the density of bars and restaurant in a specific city.\n",
    "\n",
    "Therefore I want to build my project around this idea. Given my top 5 cities I want to live in (Paris, Berlin, Brussels, Amsterdam and Zurich), which one has the highest density of bars / activities to do ? Which can be calculated using the number of activities divided by the area of the city."
   ]
  },
  {
   "cell_type": "markdown",
   "metadata": {},
   "source": [
    "### Data"
   ]
  },
  {
   "cell_type": "markdown",
   "metadata": {},
   "source": [
    "For this purpose I need to use the Foursquare API to search the number of venues that correspond to a certain type of activities that I like. This can be the following categories : ['bar','pub','restaurant','bier bar']. I plan to do some exploratory analysis to add other activities that I like to this list.\n",
    "\n",
    "Once I have this list I will use the Foursquare API and the explore venues function to gather the number of venues that fits in these categories per city. I will then count how much venues this represents and divide this number by the area of the city. That way, I will have an idea of the city I might like the most!"
   ]
  },
  {
   "cell_type": "markdown",
   "metadata": {},
   "source": [
    "### Methodology"
   ]
  },
  {
   "cell_type": "markdown",
   "metadata": {},
   "source": [
    "Let's first import all the relevant librairies and packages"
   ]
  },
  {
   "cell_type": "code",
   "execution_count": 69,
   "metadata": {},
   "outputs": [
    {
     "name": "stdout",
     "output_type": "stream",
     "text": [
      "Libraries imported.\n"
     ]
    }
   ],
   "source": [
    "import numpy as np # library to handle data in a vectorized manner\n",
    "\n",
    "import pandas as pd # library for data analsysis\n",
    "pd.set_option('display.max_columns', None)\n",
    "pd.set_option('display.max_rows', None)\n",
    "\n",
    "import json # library to handle JSON files\n",
    "from geopy.geocoders import Nominatim # convert an address into latitude and longitude values\n",
    "\n",
    "import requests # library to handle requests\n",
    "from pandas.io.json import json_normalize # tranform JSON file into a pandas dataframe\n",
    "\n",
    "# Matplotlib and associated plotting modules\n",
    "import matplotlib.cm as cm\n",
    "import matplotlib.colors as colors\n",
    "\n",
    "# import k-means from clustering stage\n",
    "from sklearn.cluster import KMeans\n",
    "\n",
    "import folium # map rendering library\n",
    "\n",
    "print('Libraries imported.')"
   ]
  },
  {
   "cell_type": "markdown",
   "metadata": {},
   "source": [
    "Let's store our credentials to call the foursquare API"
   ]
  },
  {
   "cell_type": "code",
   "execution_count": 77,
   "metadata": {},
   "outputs": [
    {
     "name": "stdout",
     "output_type": "stream",
     "text": [
      "Your credentails:\n",
      "CLIENT_ID: E15VXX3FORWXIZ0F24ZJ4T2MRQEUC3WYOJ0F2ZMLMHBH0NWZ\n",
      "CLIENT_SECRET:Z325HYRMPHVGNPZP3J3T4FZ5VGWPRSAQ4KC1ZNSM0FYPNGK3\n"
     ]
    }
   ],
   "source": [
    "CLIENT_ID = 'E15VXX3FORWXIZ0F24ZJ4T2MRQEUC3WYOJ0F2ZMLMHBH0NWZ' # your Foursquare ID\n",
    "CLIENT_SECRET = 'Z325HYRMPHVGNPZP3J3T4FZ5VGWPRSAQ4KC1ZNSM0FYPNGK3' # your Foursquare Secret\n",
    "ACCESS_TOKEN = '4JSO4UGPHGKXVJXRTALTFAHCKDSMHU410P4F22VAP2KEGQSH' # your FourSquare Access Token\n",
    "VERSION = '20180604'\n",
    "LIMIT = 30\n",
    "print('Your credentails:')\n",
    "print('CLIENT_ID: ' + CLIENT_ID)\n",
    "print('CLIENT_SECRET:' + CLIENT_SECRET)"
   ]
  },
  {
   "cell_type": "markdown",
   "metadata": {},
   "source": [
    "We keep a dictionary of the latitudes and longitudes of the cities we are interested in. But also the radius of search we want for each city. The radius is calculated by using the area and the know function A = pi * r^2\n",
    "\n",
    "So for exemple. Paris has an area of 105 square kilometer. So the radius we take is sqrt(105/3.14) = 5,78 km.\n",
    "\n",
    "Therefore let's store the area in a dictionary (in square meters, which is why the numbers seem big) and then we can calculate the radius when we pass the parameter."
   ]
  },
  {
   "cell_type": "code",
   "execution_count": 78,
   "metadata": {},
   "outputs": [],
   "source": [
    "cities = {'Paris':'48.8566,2.3522','Berlin':'52.5200,13.4050','Amsterdam':'52.3676,4.9041','Brussels':'50.8503,4.3517','Zürich':'47.3769,8.5417'}\n",
    "area = {'Paris':105000000,'Berlin':891000000,'Amsterdam':219000000,'Brussels':32000000,'Zürich':88000000 }"
   ]
  },
  {
   "cell_type": "code",
   "execution_count": 85,
   "metadata": {},
   "outputs": [
    {
     "data": {
      "text/plain": [
       "{'meta': {'code': 200, 'requestId': '60a0be413c06365b45503db5'},\n",
       " 'response': {'suggestedFilters': {'header': 'Tap to show:',\n",
       "   'filters': [{'name': 'Open now', 'key': 'openNow'}]},\n",
       "  'warning': {'text': 'There aren\\'t a lot of results for \"bars.\" Try something more general, reset your filters, or expand the search area.'},\n",
       "  'headerLocation': 'Paris',\n",
       "  'headerFullLocation': 'Paris',\n",
       "  'headerLocationGranularity': 'city',\n",
       "  'query': 'bars',\n",
       "  'totalResults': 346,\n",
       "  'suggestedBounds': {'ne': {'lat': 48.90863805203805,\n",
       "    'lng': 2.4311440197432965},\n",
       "   'sw': {'lat': 48.80456194796195, 'lng': 2.273255980256703}},\n",
       "  'groups': [{'type': 'Recommended Places',\n",
       "    'name': 'recommended',\n",
       "    'items': [{'reasons': {'count': 0,\n",
       "       'items': [{'summary': 'This spot is popular',\n",
       "         'type': 'general',\n",
       "         'reasonName': 'globalInteractionReason'}]},\n",
       "      'venue': {'id': '4fd21c85e4b08315f264bdd5',\n",
       "       'name': 'Le Dernier Bar avant la Fin du Monde',\n",
       "       'contact': {},\n",
       "       'location': {'address': '19 avenue Victoria',\n",
       "        'lat': 48.857970532781664,\n",
       "        'lng': 2.346152365207672,\n",
       "        'labeledLatLngs': [{'label': 'display',\n",
       "          'lat': 48.857970532781664,\n",
       "          'lng': 2.346152365207672}],\n",
       "        'distance': 468,\n",
       "        'postalCode': '75001',\n",
       "        'cc': 'FR',\n",
       "        'city': 'Paris',\n",
       "        'state': 'Île-de-France',\n",
       "        'country': 'France',\n",
       "        'formattedAddress': ['19 avenue Victoria', '75001 Paris', 'France']},\n",
       "       'categories': [{'id': '4bf58dd8d48988d116941735',\n",
       "         'name': 'Bar',\n",
       "         'pluralName': 'Bars',\n",
       "         'shortName': 'Bar',\n",
       "         'icon': {'prefix': 'https://ss3.4sqi.net/img/categories_v2/nightlife/pub_',\n",
       "          'suffix': '.png'},\n",
       "         'primary': True}],\n",
       "       'verified': False,\n",
       "       'stats': {'tipCount': 0,\n",
       "        'usersCount': 0,\n",
       "        'checkinsCount': 0,\n",
       "        'visitsCount': 0},\n",
       "       'beenHere': {'count': 0,\n",
       "        'lastCheckinExpiredAt': 0,\n",
       "        'marked': False,\n",
       "        'unconfirmedCount': 0},\n",
       "       'photos': {'count': 0, 'groups': []},\n",
       "       'hereNow': {'count': 0, 'summary': 'Nobody here', 'groups': []}},\n",
       "      'referralId': 'e-0-4fd21c85e4b08315f264bdd5-0'}]}]}}"
      ]
     },
     "execution_count": 85,
     "metadata": {},
     "output_type": "execute_result"
    }
   ],
   "source": [
    "# I know Paris very well so let's start with it. I'm going to search for bars\n",
    "city_to_analyse = 'Paris'\n",
    "\n",
    "import math as m\n",
    "import json, requests\n",
    "url = 'https://api.foursquare.com/v2/venues/explore'\n",
    "\n",
    "params = dict(\n",
    "client_id=CLIENT_ID,\n",
    "client_secret=CLIENT_SECRET,\n",
    "v='20180323',\n",
    "ll=cities[city_to_analyse],\n",
    "query='bars',\n",
    "limit=1,\n",
    "radius = m.sqrt(area[city_to_analyse] / 3.14)\n",
    ")\n",
    "resp = requests.get(url=url, params=params)\n",
    "data = json.loads(resp.text)\n",
    "data"
   ]
  },
  {
   "cell_type": "markdown",
   "metadata": {},
   "source": [
    "We can see that there is a field called 'totalResults' which is exactly what we need to count the number of bars in a given city. By changing the query 'bars' to 'restaurants' we can also find the number of restaurants. Let's therefore use these 2 queries and add them to have the number of activities in a given city. "
   ]
  },
  {
   "cell_type": "code",
   "execution_count": 88,
   "metadata": {},
   "outputs": [
    {
     "data": {
      "text/plain": [
       "{'Paris': 593, 'Berlin': 520, 'Amsterdam': 559, 'Brussels': 518, 'Zürich': 451}"
      ]
     },
     "execution_count": 88,
     "metadata": {},
     "output_type": "execute_result"
    }
   ],
   "source": [
    "city_activities = {'Paris':0,'Berlin':0,'Amsterdam':0,'Brussels':0,'Zürich':0}\n",
    "\n",
    "for city in city_activities:\n",
    "    \n",
    "    url = 'https://api.foursquare.com/v2/venues/explore'\n",
    "    \n",
    "    #We iterate through a list of query we want to search. This can be changed easily to gather more information\n",
    "    for search in ['bars','restaurants']:\n",
    "        params = dict(\n",
    "        client_id=CLIENT_ID,\n",
    "        client_secret=CLIENT_SECRET,\n",
    "        v='20180323',\n",
    "        ll=cities[city],\n",
    "        query=search,\n",
    "        limit=1,\n",
    "        radius = m.sqrt(area[city] / 3.14)\n",
    "        )\n",
    "        resp = requests.get(url=url, params=params)\n",
    "        data = json.loads(resp.text)\n",
    "        city_activities[city] += data['response']['totalResults']\n",
    "    \n",
    "city_activities"
   ]
  },
  {
   "cell_type": "markdown",
   "metadata": {},
   "source": [
    "Now we just have to calculate the density of activities per city and select the city with the highest density !"
   ]
  },
  {
   "cell_type": "code",
   "execution_count": 90,
   "metadata": {},
   "outputs": [
    {
     "name": "stdout",
     "output_type": "stream",
     "text": [
      "The city with the highest density of activities is : Brussels with 16.1875 activities per square kilometers ! \n"
     ]
    }
   ],
   "source": [
    "selected_city = ''\n",
    "highest_density = 0\n",
    "\n",
    "for city in cities: #We divide below the area by 1 million to have the unit in activities per square kilometers and square meters\n",
    "    if city_activities[city] / (area[city] / 1000000) > highest_density:\n",
    "        highest_density = city_activities[city] / (area[city] / 1000000)\n",
    "        selected_city = city\n",
    "\n",
    "print('The city with the highest density of activities is : ' + selected_city + ' with ' + str(highest_density) + ' activities per square kilometers ! ')"
   ]
  },
  {
   "cell_type": "markdown",
   "metadata": {},
   "source": [
    "# Results"
   ]
  },
  {
   "cell_type": "markdown",
   "metadata": {},
   "source": [
    "The results of our analysis shows that Brussels has the highest density of activities I am interested in. I visited the 5 cities that are studied here and this makes sense because Brussels is very small but is one of the world capital of beer, with bars everywhere. \n",
    "\n",
    "Also, even though Belgium is one of the smallest country in Europe, it is one of the first exporting countries in terms of liter of Beer. With 1.9 billion liter exported per year. Which is about the same as Danemark, the first exporter in Europe. \n",
    "\n",
    "Overall the result was what I expected."
   ]
  },
  {
   "cell_type": "markdown",
   "metadata": {},
   "source": [
    "# Discussion"
   ]
  },
  {
   "cell_type": "markdown",
   "metadata": {},
   "source": [
    "What is interesting with the simple and short code is how easily it can be tuned to your liking. For example, if you want to search for museums instead of bars and restaurants, you can just change the list in the code and it will return what you are looking for.\n",
    "\n",
    "There is room for improvement though. For example, I had to search by hand the area of the cities I am interested in. This wasn't long but it's not really scalable. So it would be nice to imagine a new functionality where you just enter the names of the cities you are interested in and it will webscrap wikipedia to find the area of the city. This would make the code simpler and more practical to use."
   ]
  },
  {
   "cell_type": "markdown",
   "metadata": {},
   "source": [
    "# Conclusion"
   ]
  },
  {
   "cell_type": "markdown",
   "metadata": {},
   "source": [
    "This report was very interesting to do ! I liked the foursquare API, it really shows what is possible to automate using the world of APIs. \n",
    "\n",
    "I want to dive deeper into this subject and try to analyse other APIs. For example to gather data about world trends using twitter or Reddit. \n",
    "\n",
    "Overall, it was a great way to start this journey in Data Science !"
   ]
  },
  {
   "cell_type": "code",
   "execution_count": null,
   "metadata": {},
   "outputs": [],
   "source": []
  }
 ],
 "metadata": {
  "kernelspec": {
   "display_name": "Python 3",
   "language": "python",
   "name": "python3"
  },
  "language_info": {
   "codemirror_mode": {
    "name": "ipython",
    "version": 3
   },
   "file_extension": ".py",
   "mimetype": "text/x-python",
   "name": "python",
   "nbconvert_exporter": "python",
   "pygments_lexer": "ipython3",
   "version": "3.7.9"
  }
 },
 "nbformat": 4,
 "nbformat_minor": 4
}
