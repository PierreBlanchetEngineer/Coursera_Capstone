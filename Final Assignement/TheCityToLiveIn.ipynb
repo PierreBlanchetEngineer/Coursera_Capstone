{
 "cells": [
  {
   "cell_type": "markdown",
   "metadata": {},
   "source": [
    "### Introduction / Business Plan"
   ]
  },
  {
   "cell_type": "markdown",
   "metadata": {},
   "source": [
    "Very soon I will have to make an important life decision. I need to choose which city I am going to live in. I speak French, English and German, which gives a lot of potential choices.\n",
    "\n",
    "I don't have a particular reason to choose any city / country. I just want to live in a big and dynamic city. To me this can be represented by the density of bars and restaurant in a specific city.\n",
    "\n",
    "Therefore I want to build my project around this idea. Given my top 5 cities I want to live in (Paris, Berlin, Bruxelles, Amsterdam and Zurich), which one has the highest density of bars / activities to do ? Which can be calculated using the number of activities divided by the area of the city."
   ]
  },
  {
   "cell_type": "markdown",
   "metadata": {},
   "source": [
    "### Data"
   ]
  },
  {
   "cell_type": "markdown",
   "metadata": {},
   "source": [
    "For this purpose I need to use the Foursquare API to search the number of venues that correspond to a certain type of activities that I like. This can be the following categories : ['bar','pub','restaurant','bier bar']. I plan to do some exploratory analysis to add other activities that I like to this list.\n",
    "\n",
    "Once I have this list I will use the Foursquare API and the explore venues function to gather the number of venues that fits in these categories per city. I will then count how much venues this represents and divide this number by the area of the city. That way, I will have an idea of the city I might like the most!"
   ]
  },
  {
   "cell_type": "code",
   "execution_count": null,
   "metadata": {},
   "outputs": [],
   "source": []
  }
 ],
 "metadata": {
  "kernelspec": {
   "display_name": "Python 3",
   "language": "python",
   "name": "python3"
  },
  "language_info": {
   "codemirror_mode": {
    "name": "ipython",
    "version": 3
   },
   "file_extension": ".py",
   "mimetype": "text/x-python",
   "name": "python",
   "nbconvert_exporter": "python",
   "pygments_lexer": "ipython3",
   "version": "3.7.9"
  }
 },
 "nbformat": 4,
 "nbformat_minor": 4
}
