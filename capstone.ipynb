{
 "cells": [
  {
   "cell_type": "code",
   "execution_count": 1,
   "metadata": {},
   "outputs": [
    {
     "name": "stdout",
     "output_type": "stream",
     "text": [
      "Hello Capstone Project Course!\n"
     ]
    }
   ],
   "source": [
    "import pandas as pd\n",
    "import numpy as np\n",
    "\n",
    "print('Hello Capstone Project Course!')"
   ]
  },
  {
   "cell_type": "markdown",
   "metadata": {},
   "source": [
    "Client Id : U2REKWEA3TSGOLSGMRWGRPLG0B4BYKYYHR0ORD0FTPJNLPEZ\n",
    "\n",
    "Client Secret : UOHB5CFVGXBENV4LSBECUUVNEBGGTKZVY1SUYQKFO34UUOWM\n",
    "\n",
    "Google thing : https://www.google.com/?code=ZYKROXIQZMEYFCIQLR4XVQHN2SKEFPKQXGAMRNGV3SAMT1JS#_=_\n",
    "\n",
    "\n",
    "https://foursquare.com/oauth2/access_token?client_id=U2REKWEA3TSGOLSGMRWGRPLG0B4BYKYYHR0ORD0FTPJNLPEZ&client_secret=UOHB5CFVGXBENV4LSBECUUVNEBGGTKZVY1SUYQKFO34UUOWM&grant_type=authorization_code&redirect_uri=https://www.google.com&code=ZYKROXIQZMEYFCIQLR4XVQHN2SKEFPKQXGAMRNGV3SAMT1JS#_=_\n",
    "\n",
    "{\"access_token\":\"5UUJJB40DQW51ULCXYVWJ5JAQX5PRF0QLNWDFJXXETQ5VPQZ\"}"
   ]
  },
  {
   "cell_type": "code",
   "execution_count": 2,
   "metadata": {},
   "outputs": [
    {
     "name": "stdout",
     "output_type": "stream",
     "text": [
      "Your credentails:\n",
      "CLIENT_ID: U2REKWEA3TSGOLSGMRWGRPLG0B4BYKYYHR0ORD0FTPJNLPEZ\n",
      "CLIENT_SECRET:UOHB5CFVGXBENV4LSBECUUVNEBGGTKZVY1SUYQKFO34UUOWM\n"
     ]
    }
   ],
   "source": [
    "CLIENT_ID = 'U2REKWEA3TSGOLSGMRWGRPLG0B4BYKYYHR0ORD0FTPJNLPEZ' # your Foursquare ID\n",
    "CLIENT_SECRET = 'UOHB5CFVGXBENV4LSBECUUVNEBGGTKZVY1SUYQKFO34UUOWM' # your Foursquare Secret\n",
    "ACCESS_TOKEN = '5UUJJB40DQW51ULCXYVWJ5JAQX5PRF0QLNWDFJXXETQ5VPQZ' # your FourSquare Access Token\n",
    "VERSION = '20180604'\n",
    "LIMIT = 30\n",
    "print('Your credentails:')\n",
    "print('CLIENT_ID: ' + CLIENT_ID)\n",
    "print('CLIENT_SECRET:' + CLIENT_SECRET)"
   ]
  },
  {
   "cell_type": "code",
   "execution_count": null,
   "metadata": {},
   "outputs": [],
   "source": []
  }
 ],
 "metadata": {
  "kernelspec": {
   "display_name": "Python 3",
   "language": "python",
   "name": "python3"
  },
  "language_info": {
   "codemirror_mode": {
    "name": "ipython",
    "version": 3
   },
   "file_extension": ".py",
   "mimetype": "text/x-python",
   "name": "python",
   "nbconvert_exporter": "python",
   "pygments_lexer": "ipython3",
   "version": "3.7.9"
  }
 },
 "nbformat": 4,
 "nbformat_minor": 2
}
